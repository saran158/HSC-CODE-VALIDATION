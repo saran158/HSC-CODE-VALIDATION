{
  "nbformat": 4,
  "nbformat_minor": 0,
  "metadata": {
    "colab": {
      "provenance": []
    },
    "kernelspec": {
      "name": "python3",
      "display_name": "Python 3"
    },
    "language_info": {
      "name": "python"
    }
  },
  "cells": [
    {
      "cell_type": "code",
      "execution_count": 5,
      "metadata": {
        "colab": {
          "base_uri": "https://localhost:8080/"
        },
        "id": "cPDGB12LRQHG",
        "outputId": "bc705df1-a37d-4f35-81fe-1187a7136393"
      },
      "outputs": [
        {
          "output_type": "stream",
          "name": "stdout",
          "text": [
            "👉 Columns detected in CSV: ['HSNCode', 'Description']\n",
            "\n",
            "🔎 Validation Results:\n",
            "{'HSNCode': '01', 'Status': '✅ Valid', 'Description': 'LIVE ANIMALS'}\n",
            "{'HSNCode': '0101', 'Status': '✅ Valid', 'Description': 'LIVE HORSES, ASSES, MULES AND HINNIES.'}\n",
            "{'HSNCode': '01011010', 'Status': '✅ Valid', 'Description': 'LIVE HORSES, ASSES, MULES AND HINNIES PURE-BRED BREEDING ANIMALS HORSES', 'HierarchyWarning': '⚠️ Missing parent codes: 010110'}\n",
            "{'HSNCode': '9999', 'Status': '❌ Invalid Code', 'Reason': 'Code not found in master dataset'}\n",
            "{'HSNCode': '01A', 'Status': '❌ Invalid Format', 'Reason': 'Code must be 2-8 numeric digits'}\n"
          ]
        }
      ],
      "source": [
        "import pandas as pd\n",
        "import re\n",
        "\n",
        "df = pd.read_csv('/content/HSN_SAC.xlsx - HSN_MSTR.csv')\n",
        "\n",
        "df.columns = df.columns.str.strip()\n",
        "\n",
        "print(\" Columns detected in CSV:\", df.columns.tolist())\n",
        "\n",
        "if 'HSNCode' not in df.columns and 'HSN Code' in df.columns:\n",
        "    df.rename(columns={'HSN Code': 'HSNCode'}, inplace=True)\n",
        "\n",
        "df['HSNCode'] = df['HSNCode'].astype(str).str.strip()\n",
        "\n",
        "def is_valid_format(code):\n",
        "    return bool(re.fullmatch(r'\\d{2,8}', code))\n",
        "\n",
        "def exists_in_master(code):\n",
        "    return code in df['HSNCode'].values\n",
        "\n",
        "def hierarchical_check(code):\n",
        "    parent_levels = [code[:i] for i in range(2, len(code), 2)]\n",
        "    missing = [p for p in parent_levels if p not in df['HSNCode'].values]\n",
        "    return missing\n",
        "\n",
        "def validate_hsn_code(code):\n",
        "    code = code.strip()\n",
        "    result = {'HSNCode': code}\n",
        "\n",
        "    if not is_valid_format(code):\n",
        "        result['Status'] = ' Invalid Format'\n",
        "        result['Reason'] = 'Code must be 2-8 numeric digits'\n",
        "        return result\n",
        "\n",
        "    if exists_in_master(code):\n",
        "        result['Status'] = ' Valid'\n",
        "        result['Description'] = df[df['HSNCode'] == code]['Description'].values[0]\n",
        "        missing = hierarchical_check(code)\n",
        "        if missing:\n",
        "            result['HierarchyWarning'] = f\" Missing parent codes: {', '.join(missing)}\"\n",
        "    else:\n",
        "        result['Status'] = ' Invalid Code'\n",
        "        result['Reason'] = 'Code not found in master dataset'\n",
        "\n",
        "    return result\n",
        "\n",
        "codes_to_test = ['01', '0101', '01011010', '9999', '01A']\n",
        "print(\"\\n Validation Results:\")\n",
        "for code in codes_to_test:\n",
        "    print(validate_hsn_code(code))\n"
      ]
    }
  ]
}